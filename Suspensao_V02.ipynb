{
  "nbformat": 4,
  "nbformat_minor": 0,
  "metadata": {
    "colab": {
      "private_outputs": true,
      "provenance": [],
      "authorship_tag": "ABX9TyNxF+Y05sS1p/lrNUC4L5FT",
      "include_colab_link": true
    },
    "kernelspec": {
      "name": "python3",
      "display_name": "Python 3"
    },
    "language_info": {
      "name": "python"
    }
  },
  "cells": [
    {
      "cell_type": "markdown",
      "metadata": {
        "id": "view-in-github",
        "colab_type": "text"
      },
      "source": [
        "<a href=\"https://colab.research.google.com/github/joaochenriques/2021-code-smells/blob/main/Suspensao_V02.ipynb\" target=\"_parent\"><img src=\"https://colab.research.google.com/assets/colab-badge.svg\" alt=\"Open In Colab\"/></a>"
      ]
    },
    {
      "cell_type": "code",
      "execution_count": null,
      "metadata": {
        "id": "EIn-uubM2MDh"
      },
      "outputs": [],
      "source": [
        "from sympy import *\n",
        "from sympy.printing.lambdarepr import lambdarepr\n",
        "init_printing() \n",
        "from IPython.display import Math\n",
        "import scipy.integrate\n",
        "import numpy as np"
      ]
    },
    {
      "cell_type": "code",
      "source": [
        "t, ξ_0, ξ_1, ξ_2 = symbols( r\"t, \\xi_0, \\xi_1, \\xi_2\" )\n",
        "z_F1, z_F2, z_41, y_F1, y_F2 = symbols( r\"z_{F1}, z_{F2}, z_{41}, y_{F1}, y_{F2}\" )\n",
        "h, h_z, ℓ_4, h_4, k_4, M, g, a_z, θ_0 = symbols( r\"h, h_z, \\ell_4, h_4, k_4, M, g, a_z, \\theta_0\" )\n",
        "δ_y1, δ_z1, δ_y2, δ_z2, δ_ZM, δ_YM, θ = symbols( r\"\\delta_{y1}, \\delta_{z1}, \\delta_{y2}, \\delta_{z2}, \\delta_{ZM}, \\delta_{YM}, \\theta\" )\n",
        "F, ΔF, F_1, F_2, F_1y, F_1z, F_2y, F_2z, y_Fz, z_Fz = symbols( r\"F, \\Delta{F}, F_1, F_2, F_{1y}, F_{1z}, F_{2y}, F_{2z}, y_{Fz}, z_{Fz}\" )\n",
        "F_z = symbols( r\"F_z\" )\n",
        "RHS_1, RHS_2, RHS_3 = symbols( r\"RHS_1, RHS_2, RHS_3\" )"
      ],
      "metadata": {
        "id": "wwb5txYe2N78"
      },
      "execution_count": null,
      "outputs": []
    },
    {
      "cell_type": "code",
      "source": [
        "deg2rad = pi / 180\n",
        "\n",
        "reps = { \n",
        "    ℓ_4: 0.7,\n",
        "    h_4: 0.5,\n",
        "    ξ_0: 0.5,\n",
        "    k_4: 1E4,\n",
        "    θ_0: 20*deg2rad,\n",
        "    h: 1.2,\n",
        "    h_z: 0.5,\n",
        "    M: 13000/2,\n",
        "    g: 9.8,\n",
        "    a_z: 2,\n",
        "    F_z: 500,\n",
        "    #\n",
        "    ξ_1: sqrt( (z_F1 + ℓ_4)**2 + (y_F1-h_4)**2 ),\n",
        "    ξ_2: sqrt( (z_F2 - ℓ_4)**2 + (y_F2 - h_4)**2 ),\n",
        "    #\n",
        "    F_1: k_4 * (ξ_0 - ξ_1) + M * g / ( 2 * cos(θ_0) ),\n",
        "    F_2: k_4 * (ξ_0 - ξ_2) + M * g / ( 2 * cos(θ_0) ),\n",
        "    F: (F_1 + F_2 ) / 2,\n",
        "    ΔF: F_1 - F,\n",
        "    #\n",
        "    z_F1: δ_ZM + (h - (h_4+ξ_0*cos(θ_0) ) )*sin(θ) - ( ℓ_4 - ξ_0*sin(θ_0) )*cos(θ),\n",
        "    z_F2: δ_ZM + (h - (h_4+ξ_0*cos(θ_0) ) )*sin(θ) + ( ℓ_4 - ξ_0*sin(θ_0) )*cos(θ),\n",
        "    y_F1: h + δ_YM - (h - (h_4+ξ_0*cos(θ_0) ) )*cos(θ) - ( ℓ_4 - ξ_0*sin(θ_0) )*sin(θ),\n",
        "    y_F2: h + δ_YM - (h - (h_4+ξ_0*cos(θ_0) ) )*cos(θ) + ( ℓ_4 - ξ_0*sin(θ_0) )*sin(θ),\n",
        "    z_Fz: δ_ZM + (h - h_z )*sin(θ),\n",
        "    y_Fz: h + δ_YM - (h - h_z )*cos(θ),\n",
        "    #\n",
        "    F_1z: F_1 * sin(θ_0 - θ),\n",
        "    F_2z: F_2 * sin(θ_0 + θ),\n",
        "    F_1y: F_1 * cos(θ_0 - θ),\n",
        "    F_2y: F_2 * cos(θ_0 + θ),\n",
        "    #\n",
        "    δ_z1: δ_ZM - z_F1,\n",
        "    δ_y1: h + δ_YM - y_F1,\n",
        "    δ_z2: -δ_ZM + z_F2,\n",
        "    δ_y2: h + δ_YM - y_F2\n",
        "}\n",
        "for key, values in reps.items():\n",
        "    Math( latex(key) )"
      ],
      "metadata": {
        "id": "GHRe_HKZ47SC"
      },
      "execution_count": null,
      "outputs": []
    },
    {
      "cell_type": "code",
      "source": [
        "eq_B01 = Eq( RHS_1, F_1z - F_2z - F_z + M * a_z ).subs( reps ).subs( reps ).subs( reps )\n",
        "eq_B01"
      ],
      "metadata": {
        "id": "sYmMQpuiAwFg"
      },
      "execution_count": null,
      "outputs": []
    },
    {
      "cell_type": "code",
      "source": [
        "eq_B02 = Eq( RHS_2, F_1y + F_2y - M * g ).subs( reps ).subs( reps ).subs( reps )\n",
        "eq_B02"
      ],
      "metadata": {
        "id": "_Wjf4fyxB6qH"
      },
      "execution_count": null,
      "outputs": []
    },
    {
      "cell_type": "code",
      "source": [
        "eq_B03 = Eq( RHS_3, F_1y*δ_z1 - F_1z*δ_y1 - F_2y*δ_z2 + F_2z*δ_y2 + F_z*(h - h_z)*cos(θ) ).subs( reps ).subs( reps ).subs( reps )\n",
        "eq_B03"
      ],
      "metadata": {
        "id": "BcLK2TgwCMhk"
      },
      "execution_count": null,
      "outputs": []
    },
    {
      "cell_type": "code",
      "source": [
        "func = lambdify( [t,δ_ZM,δ_YM,θ], [eq_B01.rhs, eq_B02.rhs, eq_B03.rhs] )\n",
        "U0 = [0,0,0]\n",
        "t_eval = np.linspace(0, 5, 50)"
      ],
      "metadata": {
        "id": "-QwTlVBuCmIT"
      },
      "execution_count": null,
      "outputs": []
    },
    {
      "cell_type": "code",
      "source": [
        "solution = scipy.integrate.solve_ivp( func, (0, 5), U0, t_eval=t_eval )"
      ],
      "metadata": {
        "id": "n-Z7Bz9kIPce"
      },
      "execution_count": null,
      "outputs": []
    },
    {
      "cell_type": "code",
      "source": [],
      "metadata": {
        "id": "yqYQwtRwJnt3"
      },
      "execution_count": null,
      "outputs": []
    }
  ]
}