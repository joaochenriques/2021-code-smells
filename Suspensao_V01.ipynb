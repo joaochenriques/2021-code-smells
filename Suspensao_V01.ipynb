{
  "nbformat": 4,
  "nbformat_minor": 0,
  "metadata": {
    "colab": {
      "private_outputs": true,
      "provenance": [],
      "authorship_tag": "ABX9TyMxwNMr35nqbUH2bCrqW7NA",
      "include_colab_link": true
    },
    "kernelspec": {
      "name": "python3",
      "display_name": "Python 3"
    },
    "language_info": {
      "name": "python"
    }
  },
  "cells": [
    {
      "cell_type": "markdown",
      "metadata": {
        "id": "view-in-github",
        "colab_type": "text"
      },
      "source": [
        "<a href=\"https://colab.research.google.com/github/joaochenriques/2021-code-smells/blob/main/Suspensao_V01.ipynb\" target=\"_parent\"><img src=\"https://colab.research.google.com/assets/colab-badge.svg\" alt=\"Open In Colab\"/></a>"
      ]
    },
    {
      "cell_type": "code",
      "execution_count": null,
      "metadata": {
        "id": "EIn-uubM2MDh"
      },
      "outputs": [],
      "source": [
        "from sympy import *\n",
        "from sympy.printing.lambdarepr import lambdarepr"
      ]
    },
    {
      "cell_type": "code",
      "source": [
        "t, ξ_0, ξ_1, ξ_2 = symbols( r\"t, \\xi_0, \\xi_1, \\xi_2\" )\n",
        "z_F1, z_F2, z_41, y_F1, y_F2 = symbols( r\"z_{F1}, z_{F2}, z_{41}, y_{F1}, y_{F2}\" )\n",
        "h, h_z, ℓ_4, h_4, k_4, M, g, a_z, θ_0 = symbols( r\"h, h_z, \\ell_4, h_4, k_4, M, g, a_z, \\theta_0\" )\n",
        "δ_y1, δ_z1, δ_y2, δ_z2, δ_ZM, δ_YM, θ = symbols( r\"\\delta_{y1}, \\delta_{z1}, \\delta_{y2}, \\delta_{z2}, \\delta_{ZM}, \\delta_{YM}, \\theta\" )\n",
        "F, ΔF, F_1, F_2, F_1y, F_1z, F_2y, F_2z, y_Fz, z_Fz = symbols( r\"F, \\Delta{F}, F_1, F_2, F_{1y}, F_{1z}, F_{2y}, F_{2z}, y_{Fz}, z_{Fz}\" )"
      ],
      "metadata": {
        "id": "wwb5txYe2N78"
      },
      "execution_count": null,
      "outputs": []
    },
    {
      "cell_type": "code",
      "source": [
        "eq_A01 = Eq( ξ_1, sqrt( (z_F1 + ℓ_4)**2 + (y_F1-h_4)**2 ) )\n",
        "eq_A01"
      ],
      "metadata": {
        "id": "GHRe_HKZ47SC"
      },
      "execution_count": null,
      "outputs": []
    },
    {
      "cell_type": "code",
      "source": [
        "eq_A02 = Eq( ξ_2, sqrt( (z_F2 - ℓ_4)**2 + (y_F2 - h_4)**2 ) )\n",
        "eq_A02"
      ],
      "metadata": {
        "id": "IYkdZqpy5geA"
      },
      "execution_count": null,
      "outputs": []
    },
    {
      "cell_type": "code",
      "source": [
        "eq_A03 = Eq( F_1, k_4 * (ξ_0 - ξ_1) + M * g / ( 2 * cos(θ_0) ) )\n",
        "eq_A03"
      ],
      "metadata": {
        "id": "-hTgJvMq6G9N"
      },
      "execution_count": null,
      "outputs": []
    },
    {
      "cell_type": "code",
      "source": [
        "eq_A04 = Eq( F_2, k_4 * (ξ_0 - ξ_2) + M * g / ( 2 * cos(θ_0) ) )\n",
        "eq_A04"
      ],
      "metadata": {
        "id": "jq5OmzTH6l19"
      },
      "execution_count": null,
      "outputs": []
    },
    {
      "cell_type": "code",
      "source": [
        "eq_A05 = Eq( F, (F_1 + F_2 ) / 2 )\n",
        "eq_A05"
      ],
      "metadata": {
        "id": "PtXZskfO6sXi"
      },
      "execution_count": null,
      "outputs": []
    },
    {
      "cell_type": "code",
      "source": [
        "eq_A06 = Eq( ΔF, F_1 - F )\n",
        "eq_A06"
      ],
      "metadata": {
        "id": "6psmnM_q65O7"
      },
      "execution_count": null,
      "outputs": []
    },
    {
      "cell_type": "code",
      "source": [
        "eq_A07 = Eq( z_F1, δ_ZM + (h - (h_4+ξ_0*cos(θ_0) ) )*sin(θ) - ( ℓ_4 - ξ_0*sin(θ_0) )*cos(θ) )\n",
        "eq_A07"
      ],
      "metadata": {
        "id": "f7fxHmh46-TT"
      },
      "execution_count": null,
      "outputs": []
    },
    {
      "cell_type": "code",
      "source": [
        "eq_A08 = Eq( z_F2, δ_ZM + (h - (h_4+ξ_0*cos(θ_0) ) )*sin(θ) + ( ℓ_4 - ξ_0*sin(θ_0) )*cos(θ) )\n",
        "eq_A08"
      ],
      "metadata": {
        "id": "TDiK3uP17eDt"
      },
      "execution_count": null,
      "outputs": []
    },
    {
      "cell_type": "code",
      "source": [
        "eq_A09 = Eq( y_F1, h + δ_YM - (h - (h_4+ξ_0*cos(θ_0) ) )*cos(θ) - ( ℓ_4 - ξ_0*sin(θ_0) )*sin(θ) )\n",
        "eq_A09"
      ],
      "metadata": {
        "id": "s7li5SpI8FYB"
      },
      "execution_count": null,
      "outputs": []
    },
    {
      "cell_type": "code",
      "source": [
        "eq_A10 = Eq( y_F2, h + δ_YM - (h - (h_4+ξ_0*cos(θ_0) ) )*cos(θ) + ( ℓ_4 - ξ_0*sin(θ_0) )*sin(θ) )\n",
        "eq_A10"
      ],
      "metadata": {
        "id": "gRlreGVf9o-n"
      },
      "execution_count": null,
      "outputs": []
    },
    {
      "cell_type": "code",
      "source": [
        "eq_A11 = Eq( z_Fz, δ_ZM + (h - h_z )*sin(θ) )\n",
        "eq_A11"
      ],
      "metadata": {
        "id": "PbE8rmfR9_5x"
      },
      "execution_count": null,
      "outputs": []
    },
    {
      "cell_type": "code",
      "source": [
        "eq_A12 = Eq( y_Fz, h + δ_YM - (h - h_z )*cos(θ) )\n",
        "eq_A12"
      ],
      "metadata": {
        "id": "jTdqnVeI-klT"
      },
      "execution_count": null,
      "outputs": []
    },
    {
      "cell_type": "code",
      "source": [
        "eq_A13 = Eq( F_1z, F_1 * sin(θ_0 - θ) )\n",
        "eq_A13"
      ],
      "metadata": {
        "id": "BRWOw13j-v2W"
      },
      "execution_count": null,
      "outputs": []
    },
    {
      "cell_type": "code",
      "source": [
        "eq_A14 = Eq( F_2z, F_2 * sin(θ_0 + θ) )\n",
        "eq_A14"
      ],
      "metadata": {
        "id": "ngAh_lFn_Utb"
      },
      "execution_count": null,
      "outputs": []
    },
    {
      "cell_type": "code",
      "source": [
        "eq_A15 = Eq( F_1y, F_1 * cos(θ_0 - θ) )\n",
        "eq_A15"
      ],
      "metadata": {
        "id": "FcruLBHq_Xnc"
      },
      "execution_count": null,
      "outputs": []
    },
    {
      "cell_type": "code",
      "source": [
        "eq_A16 = Eq( F_2y, F_2 * cos(θ_0 + θ) )\n",
        "eq_A16"
      ],
      "metadata": {
        "id": "CY32pcbv_dy1"
      },
      "execution_count": null,
      "outputs": []
    },
    {
      "cell_type": "code",
      "source": [
        "eq_A17 = Eq( δ_z1, δ_ZM - z_F1 )\n",
        "eq_A17"
      ],
      "metadata": {
        "id": "WnJf2s5e_jVM"
      },
      "execution_count": null,
      "outputs": []
    },
    {
      "cell_type": "code",
      "source": [
        "eq_A18 = Eq( δ_y1, h + δ_YM - y_F1 )\n",
        "eq_A18"
      ],
      "metadata": {
        "id": "0XRshyaPASPX"
      },
      "execution_count": null,
      "outputs": []
    },
    {
      "cell_type": "code",
      "source": [
        "eq_A19 = Eq( δ_z2, -δ_ZM + z_F2 )\n",
        "eq_A19"
      ],
      "metadata": {
        "id": "EehSlhuVAinz"
      },
      "execution_count": null,
      "outputs": []
    },
    {
      "cell_type": "code",
      "source": [
        "eq_A20 = Eq( δ_y2, h + δ_YM - y_F2 )\n",
        "eq_A20"
      ],
      "metadata": {
        "id": "Wee1t4stAqgI"
      },
      "execution_count": null,
      "outputs": []
    },
    {
      "cell_type": "code",
      "source": [],
      "metadata": {
        "id": "sYmMQpuiAwFg"
      },
      "execution_count": null,
      "outputs": []
    }
  ]
}